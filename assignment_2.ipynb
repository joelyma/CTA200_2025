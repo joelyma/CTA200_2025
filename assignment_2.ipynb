{
 "cells": [
  {
   "cell_type": "code",
   "execution_count": 3,
   "id": "81fa7c76",
   "metadata": {},
   "outputs": [],
   "source": [
    "# Part 1\n",
    "\n",
    "def f(x: float) -> float:\n",
    "    \"\"\"\n",
    "    Computes the value of the function f(x) = x^3 - x^2 - 1.\n",
    "\n",
    "    Parameters:\n",
    "        x (float): The input value.\n",
    "\n",
    "    Returns:\n",
    "        float: The result of the function at x.\n",
    "    \"\"\"\n",
    "    return x**3 - x**2 - 1\n",
    "\n",
    "def df(x: float) -> float:\n",
    "    \"\"\"\n",
    "    Computes the derivative of the function f(x) = x^3 - x^2 - 1,\n",
    "    which is f'(x) = 3x^2 - 2x.\n",
    "\n",
    "    Parameters:\n",
    "        x (float): The input value.\n",
    "\n",
    "    Returns:\n",
    "        float: The value of the derivative at x.\n",
    "    \"\"\"\n",
    "    return 3 * x**2 - 2 * x"
   ]
  },
  {
   "cell_type": "code",
   "execution_count": 4,
   "id": "ccfabe69",
   "metadata": {},
   "outputs": [],
   "source": [
    "# Part 2\n",
    "\n",
    "def newton(f, df, x0, epsilon=1e-6, max_iter=30):\n",
    "    \"\"\"\n",
    "    Finds a root of the function f(x) using Newton Iterations.\n",
    "\n",
    "    Parameters\n",
    "    ----------\n",
    "    f : callable\n",
    "        The function for which to find the root. Should take a float and return a float.\n",
    "    df : callable\n",
    "        The derivative of f. Should take a float and return a float.\n",
    "    x0 : float\n",
    "        Initial guess for the root.\n",
    "    epsilon : float, optional\n",
    "        Tolerance for stopping criterion. Iteration stops when |f(x_n)| < epsilon.\n",
    "        Default is 1e-6.\n",
    "    max_iter : int, optional\n",
    "        Maximum number of iterations allowed. Default is 30.\n",
    "\n",
    "    Returns\n",
    "    -------\n",
    "    float or None\n",
    "        The root x_n such that f(x_n) ≈ 0 if convergence is successful.\n",
    "        Returns None if the method fails to converge.\n",
    "\n",
    "    Prints\n",
    "    ------\n",
    "    If successful: \"Found root in N iterations\"\n",
    "    If failed: \"Iteration failed\"\n",
    "    \"\"\"\n",
    "    x = x0\n",
    "    for i in range(1, max_iter + 1):\n",
    "        fx = f(x)\n",
    "        dfx = df(x)\n",
    "        if dfx == 0:\n",
    "            print(\"Derivative zero — cannot continue.\")\n",
    "            return None\n",
    "        x = x - fx / dfx\n",
    "        if abs(fx) < epsilon:\n",
    "            print(f\"Found root in {i} iterations\")\n",
    "            return x\n",
    "    print(\"Iteration failed\")\n",
    "    return None"
   ]
  },
  {
   "cell_type": "code",
   "execution_count": 17,
   "id": "09b3e071",
   "metadata": {},
   "outputs": [
    {
     "name": "stdout",
     "output_type": "stream",
     "text": [
      "Test 1 (x0 = 1.1):\n",
      "Found root in 5 iterations\n",
      "\n",
      "Test 2 (x0 = 153.4):\n",
      "Found root in 5 iterations\n",
      "\n",
      "Test 3 (x0 = 1.1, epsilon = 1e-8):\n",
      "Found root in 6 iterations\n"
     ]
    }
   ],
   "source": [
    "# Part 3 \n",
    "\n",
    "# Test case 1: Starting near the real root\n",
    "print(\"Test 1 (x0 = 1.1):\")\n",
    "root1 = newton(f, df, x0=1.2)\n",
    "\n",
    "# Test case 2: Starting further away\n",
    "print(\"\\nTest 2 (x0 = 153.4):\")\n",
    "root2 = newton(f, df, x0=2.0)\n",
    "\n",
    "# Test case 3: Same as Test 1 but smaller epsilon\n",
    "print(\"\\nTest 3 (x0 = 1.1, epsilon = 1e-8):\")\n",
    "root3 = newton(f, df, x0=1.2, epsilon=1e-8)"
   ]
  },
  {
   "cell_type": "code",
   "execution_count": null,
   "id": "1c83b6bd",
   "metadata": {},
   "outputs": [],
   "source": []
  }
 ],
 "metadata": {
  "kernelspec": {
   "display_name": "Python 3 (ipykernel)",
   "language": "python",
   "name": "python3"
  },
  "language_info": {
   "codemirror_mode": {
    "name": "ipython",
    "version": 3
   },
   "file_extension": ".py",
   "mimetype": "text/x-python",
   "name": "python",
   "nbconvert_exporter": "python",
   "pygments_lexer": "ipython3",
   "version": "3.10.2"
  }
 },
 "nbformat": 4,
 "nbformat_minor": 5
}
