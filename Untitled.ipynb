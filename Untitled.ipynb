{
 "cells": [
  {
   "cell_type": "code",
   "execution_count": 1,
   "id": "30535b52-43b2-440a-aa11-4ef0ce9451b0",
   "metadata": {},
   "outputs": [],
   "source": [
    "import numpy as np\n",
    "import matplotlib.pyplot as plt\n",
    "from astropy import units as u\n",
    "from poliastro.core.angles import M_to_E, E_to_nu\n",
    "from poliastro.bodies import Sun\n",
    "from poliastro.twobody import Orbit\n",
    "from astropy.constants import G\n",
    "import pandas as pd\n",
    "from astropy.time import Time\n",
    "from poliastro.bodies import Body\n",
    "import emcee\n",
    "from astropy.units import Quantity\n",
    "from kepler_fxs import (\n",
    "    solve_true_anomaly, ra_dec_to_xy, forward_model,\n",
    "    log_prior, log_likelihood, log_probability\n",
    ")"
   ]
  },
  {
   "cell_type": "code",
   "execution_count": 2,
   "id": "8831204e-e164-429e-a86e-df9372b260f7",
   "metadata": {},
   "outputs": [
    {
     "name": "stdout",
     "output_type": "stream",
     "text": [
      "Mean Anomaly M  = 150.07500000000164 deg\n",
      "Eccentric Anomaly E = 164.01854704711513 deg\n",
      "True Anomaly ν = 176.00831452728605 deg\n"
     ]
    }
   ],
   "source": [
    "# Problem 2\n",
    "\n",
    "# Orbital parameters\n",
    "t = 2025.0 * u.yr\n",
    "t_p = 2002.33 * u.yr\n",
    "P = 16.00 * u.yr\n",
    "e = 0.8839\n",
    "\n",
    "# Solve Kepler's equation and get true anomaly\n",
    "nu, M, E = solve_true_anomaly(t, t_p, P, e)\n",
    "\n",
    "# Display results\n",
    "print(\"Mean Anomaly M  =\", M.to(u.deg))\n",
    "print(\"Eccentric Anomaly E =\", E.to(u.deg))\n",
    "print(\"True Anomaly ν =\", nu.to(u.deg))"
   ]
  },
  {
   "cell_type": "code",
   "execution_count": 3,
   "id": "a3be67dc-9be4-4130-9960-6c052320aba4",
   "metadata": {},
   "outputs": [
    {
     "name": "stdout",
     "output_type": "stream",
     "text": [
      "done\n"
     ]
    }
   ],
   "source": [
    "# Problem 4\n",
    "\n",
    "# Load Data\n",
    "\n",
    "data = pd.read_csv(\"AssigmentDistance2SgrA_mockObservations.csv\")\n",
    "\n",
    "data = data.rename(columns={\n",
    "    \"Delta R.A. [as] (0.01as error)\": \"RA_offset\",\n",
    "    \"Delta Dec. [as] (0.01as error)\": \"Dec_offset\",\n",
    "    \"vz [km/s] (10km/s error)\": \"vz\"\n",
    "})\n",
    "\n",
    "data[\"Time of Observation\"] = pd.to_datetime(data[\"Time of Observation\"])\n",
    "obs_times = Time(data[\"Time of Observation\"])\n",
    "\n",
    "print('done')"
   ]
  },
  {
   "cell_type": "code",
   "execution_count": 4,
   "id": "b01761f7-51b0-49a5-b1a4-3c849eaf88ec",
   "metadata": {},
   "outputs": [
    {
     "name": "stdout",
     "output_type": "stream",
     "text": [
      "-213.793214097772 AU\n",
      "-1621.7835772793485\n",
      "done\n"
     ]
    }
   ],
   "source": [
    "D = 8000 * u.pc  # Distance to Sgr A*\n",
    "x, y = ra_dec_to_xy(data[\"RA_offset\"], data[\"Dec_offset\"], D)\n",
    "\n",
    "data[\"x_AU\"] = x\n",
    "data[\"y_AU\"] = y\n",
    "\n",
    "print(x[0])\n",
    "\n",
    "obs_times         # time values as Astropy Time\n",
    "data[\"x_AU\"] = data[\"x_AU\"].values / u.AU\n",
    "x_obs = data[\"x_AU\"]\n",
    "data[\"y_AU\"] = data[\"y_AU\"].values / u.AU\n",
    "y_obs = data[\"y_AU\"]\n",
    "data[\"vz_AU\"] = data[\"vz\"].values\n",
    "vz_obs = data[\"vz_AU\"]\n",
    "\n",
    "\n",
    "print(data[\"vz_AU\"][0])\n",
    "\n",
    "#print(x_obs[0])\n",
    "\n",
    "trial_params = {\n",
    "    \"M\": 4e6,\n",
    "    \"D\": 8000,\n",
    "    \"a\": 0.123 * 8000,\n",
    "    \"ecc\": 0.88,\n",
    "    \"inc\": 135,\n",
    "    \"raan\": 225,\n",
    "    \"argp\": 64,\n",
    "    \"tp\": 2002,\n",
    "}\n",
    "\n",
    "initial_theta = np.array([\n",
    "    trial_params[\"M\"],\n",
    "    trial_params[\"D\"],\n",
    "    trial_params[\"a\"],\n",
    "    trial_params[\"ecc\"],\n",
    "    trial_params[\"inc\"],\n",
    "    trial_params[\"raan\"],\n",
    "    trial_params[\"argp\"],\n",
    "    trial_params[\"tp\"]\n",
    "])\n",
    "print('done')"
   ]
  },
  {
   "cell_type": "code",
   "execution_count": 5,
   "id": "174c4274-e16b-4ee1-a095-29f04fecfa76",
   "metadata": {},
   "outputs": [
    {
     "name": "stderr",
     "output_type": "stream",
     "text": [
      "  1%|▍                                         | 9/1000 [00:19<36:11,  2.19s/it]"
     ]
    },
    {
     "name": "stdout",
     "output_type": "stream",
     "text": [
      "Rejected D: 4068.0954229138333\n",
      "Rejected e: 1.0207035226412615\n"
     ]
    },
    {
     "name": "stderr",
     "output_type": "stream",
     "text": [
      "  1%|▍                                        | 10/1000 [00:21<35:00,  2.12s/it]"
     ]
    },
    {
     "name": "stdout",
     "output_type": "stream",
     "text": [
      "Rejected D: 3078.612896782138\n",
      "Rejected e: 1.0536042152950729\n",
      "Rejected argp: -7.155460485937837\n"
     ]
    },
    {
     "name": "stderr",
     "output_type": "stream",
     "text": [
      "  1%|▍                                        | 12/1000 [00:25<34:20,  2.09s/it]"
     ]
    },
    {
     "name": "stdout",
     "output_type": "stream",
     "text": [
      "Rejected D: 4737.29379117554\n",
      "Rejected e: 1.012228815996052\n",
      "Rejected e: 1.0103326862476447\n",
      "Rejected argp: -4.853076544251202\n"
     ]
    },
    {
     "name": "stderr",
     "output_type": "stream",
     "text": [
      "  1%|▌                                        | 13/1000 [00:27<33:57,  2.06s/it]"
     ]
    },
    {
     "name": "stdout",
     "output_type": "stream",
     "text": [
      "Rejected e: 1.0333441933102516\n",
      "Rejected argp: -28.733933252333955\n",
      "Rejected D: 3911.2273190070005\n",
      "Rejected D: 4945.0060392086525\n",
      "Rejected e: 1.131912733175573\n",
      "Rejected e: 1.092468689303538\n"
     ]
    },
    {
     "name": "stderr",
     "output_type": "stream",
     "text": [
      "  1%|▌                                        | 14/1000 [00:28<32:12,  1.96s/it]"
     ]
    },
    {
     "name": "stdout",
     "output_type": "stream",
     "text": [
      "Rejected D: 4839.9615988537935\n",
      "Rejected e: 1.0575647465370581\n",
      "Rejected e: 1.0368192820472217\n",
      "Rejected D: 4503.4163323381745\n"
     ]
    },
    {
     "name": "stderr",
     "output_type": "stream",
     "text": [
      "  2%|▌                                        | 15/1000 [00:30<31:30,  1.92s/it]"
     ]
    },
    {
     "name": "stdout",
     "output_type": "stream",
     "text": [
      "Rejected e: 1.0669871057171532\n"
     ]
    },
    {
     "name": "stderr",
     "output_type": "stream",
     "text": [
      "  2%|▋                                        | 16/1000 [00:32<31:56,  1.95s/it]"
     ]
    },
    {
     "name": "stdout",
     "output_type": "stream",
     "text": [
      "Rejected e: 1.0235776357254103\n",
      "Rejected D: 3646.3496358801485\n"
     ]
    },
    {
     "name": "stderr",
     "output_type": "stream",
     "text": [
      "  2%|▋                                        | 17/1000 [00:34<31:24,  1.92s/it]"
     ]
    },
    {
     "name": "stdout",
     "output_type": "stream",
     "text": [
      "Rejected D: 4605.715735100002\n",
      "Rejected e: 1.060572451189223\n",
      "Rejected argp: -48.04190194854702\n",
      "Rejected e: 1.1043333984003443\n",
      "Rejected argp: -3.599965519668835\n",
      "Rejected e: 1.0076404131261505\n"
     ]
    },
    {
     "name": "stderr",
     "output_type": "stream",
     "text": [
      "  2%|▋                                        | 18/1000 [00:36<31:00,  1.89s/it]"
     ]
    },
    {
     "name": "stdout",
     "output_type": "stream",
     "text": [
      "Rejected argp: -28.557484978654422\n",
      "Rejected D: 1947.2779116885522\n",
      "Rejected D: 3701.12823142034\n"
     ]
    },
    {
     "name": "stderr",
     "output_type": "stream",
     "text": [
      "  2%|▊                                        | 19/1000 [00:38<30:29,  1.87s/it]"
     ]
    },
    {
     "name": "stdout",
     "output_type": "stream",
     "text": [
      "Rejected argp: -26.02996219497578\n"
     ]
    },
    {
     "name": "stderr",
     "output_type": "stream",
     "text": [
      "  2%|▊                                        | 20/1000 [00:40<30:29,  1.87s/it]"
     ]
    },
    {
     "name": "stdout",
     "output_type": "stream",
     "text": [
      "Rejected e: 1.0231768339752623\n",
      "Rejected e: 1.0685171105950837\n",
      "Rejected e: 1.0257139770560797\n",
      "Rejected argp: -43.08585218073925\n",
      "Rejected D: 3382.643126025707\n"
     ]
    },
    {
     "name": "stderr",
     "output_type": "stream",
     "text": [
      "  2%|▊                                        | 21/1000 [00:41<29:57,  1.84s/it]"
     ]
    },
    {
     "name": "stdout",
     "output_type": "stream",
     "text": [
      "Rejected e: 1.0154559629091064\n",
      "Rejected argp: -20.937489087946183\n",
      "Rejected D: 4064.547147245933\n"
     ]
    },
    {
     "name": "stderr",
     "output_type": "stream",
     "text": [
      "  2%|▉                                        | 22/1000 [00:43<30:33,  1.87s/it]"
     ]
    },
    {
     "name": "stdout",
     "output_type": "stream",
     "text": [
      "Rejected argp: -0.24901962880628048\n",
      "Rejected raan: 365.8140620861999\n",
      "Rejected argp: -6.280461989588673\n",
      "Rejected e: 1.0184032356205155\n",
      "Rejected e: 1.1528578992722218\n"
     ]
    },
    {
     "name": "stderr",
     "output_type": "stream",
     "text": [
      "  2%|▉                                        | 23/1000 [00:45<29:29,  1.81s/it]"
     ]
    },
    {
     "name": "stdout",
     "output_type": "stream",
     "text": [
      "Rejected e: 1.0238308081909409\n",
      "Rejected D: 4204.615851310514\n",
      "Rejected argp: -13.166196221487276\n",
      "Rejected D: 4810.9748595550855\n",
      "Rejected e: 1.0548611445095097\n"
     ]
    },
    {
     "name": "stderr",
     "output_type": "stream",
     "text": [
      "  2%|▉                                        | 24/1000 [00:47<29:19,  1.80s/it]"
     ]
    },
    {
     "name": "stdout",
     "output_type": "stream",
     "text": [
      "Rejected e: 1.0059004582430773\n",
      "Rejected D: 3111.1354650007024\n",
      "Rejected argp: -14.506949314944023\n"
     ]
    },
    {
     "name": "stderr",
     "output_type": "stream",
     "text": [
      "  2%|█                                        | 25/1000 [00:49<29:44,  1.83s/it]"
     ]
    },
    {
     "name": "stdout",
     "output_type": "stream",
     "text": [
      "Rejected argp: -34.60396791928306\n",
      "Rejected e: 1.0248818712255867\n",
      "Rejected D: 4951.431627543627\n",
      "Rejected argp: -5.259107700935729\n",
      "Rejected D: 3043.5147090299297\n"
     ]
    },
    {
     "name": "stderr",
     "output_type": "stream",
     "text": [
      "  3%|█                                        | 26/1000 [00:50<28:10,  1.74s/it]"
     ]
    },
    {
     "name": "stdout",
     "output_type": "stream",
     "text": [
      "Rejected raan: 373.5318270854057\n",
      "Rejected argp: -18.28296462564021\n",
      "Rejected D: 4234.864121027889\n",
      "Rejected D: 4563.107240395439\n",
      "Rejected D: 4260.3729512763575\n"
     ]
    },
    {
     "name": "stderr",
     "output_type": "stream",
     "text": [
      "  3%|█                                        | 27/1000 [00:52<28:24,  1.75s/it]"
     ]
    },
    {
     "name": "stdout",
     "output_type": "stream",
     "text": [
      "Rejected argp: -53.99783739314478\n",
      "Rejected D: 3511.954986838502\n",
      "Rejected D: 4887.693815134479\n",
      "Rejected D: 4258.37993773414\n",
      "Rejected e: 1.0232869889234533\n"
     ]
    },
    {
     "name": "stderr",
     "output_type": "stream",
     "text": [
      "  3%|█▏                                       | 28/1000 [00:54<29:16,  1.81s/it]"
     ]
    },
    {
     "name": "stdout",
     "output_type": "stream",
     "text": [
      "Rejected raan: 393.90110849236476\n",
      "Rejected D: 4411.390245468141\n",
      "Rejected argp: -21.902078199338334\n",
      "Rejected e: 1.0403400054397258\n"
     ]
    },
    {
     "name": "stderr",
     "output_type": "stream",
     "text": [
      "  3%|█▏                                       | 29/1000 [00:56<29:00,  1.79s/it]"
     ]
    },
    {
     "name": "stdout",
     "output_type": "stream",
     "text": [
      "Rejected D: 4565.372627602818\n",
      "Rejected D: 3519.684727123272\n",
      "Rejected e: 1.0464431083655923\n"
     ]
    },
    {
     "name": "stderr",
     "output_type": "stream",
     "text": [
      "  3%|█▏                                       | 30/1000 [00:58<29:14,  1.81s/it]"
     ]
    },
    {
     "name": "stdout",
     "output_type": "stream",
     "text": [
      "Rejected D: 4718.3917045022645\n",
      "Rejected raan: 387.7638120185578\n",
      "Rejected D: 4160.543168825468\n",
      "Rejected D: 3469.7952472481657\n",
      "Rejected D: 661.6080714392592\n"
     ]
    },
    {
     "name": "stderr",
     "output_type": "stream",
     "text": [
      "  3%|█▎                                       | 31/1000 [00:59<29:41,  1.84s/it]"
     ]
    },
    {
     "name": "stdout",
     "output_type": "stream",
     "text": [
      "Rejected D: 4737.294948171689\n",
      "Rejected argp: -7.718483725887548\n",
      "Rejected D: 4627.44984448924\n"
     ]
    },
    {
     "name": "stderr",
     "output_type": "stream",
     "text": [
      "  3%|█▎                                       | 32/1000 [01:02<32:42,  2.03s/it]"
     ]
    },
    {
     "name": "stdout",
     "output_type": "stream",
     "text": [
      "Rejected e: 1.0444284857176465\n",
      "Rejected D: 4783.913253495084\n",
      "Rejected D: 4040.8948535448326\n",
      "Rejected D: 4941.760162694791\n",
      "Rejected raan: 385.171219029286\n"
     ]
    },
    {
     "name": "stderr",
     "output_type": "stream",
     "text": [
      "  3%|█▎                                       | 33/1000 [01:05<35:35,  2.21s/it]"
     ]
    },
    {
     "name": "stdout",
     "output_type": "stream",
     "text": [
      "Rejected D: 2609.621820208996\n",
      "Rejected D: 4170.748061107484\n",
      "Rejected D: -78.96510318430228\n",
      "Rejected e: 1.0012788464311309\n"
     ]
    },
    {
     "name": "stderr",
     "output_type": "stream",
     "text": [
      "  3%|█▍                                       | 34/1000 [01:07<35:39,  2.21s/it]"
     ]
    },
    {
     "name": "stdout",
     "output_type": "stream",
     "text": [
      "Rejected e: 1.0122617148795479\n",
      "Rejected e: 1.0849343949587607\n",
      "Rejected D: 2435.9574100874597\n",
      "Rejected D: 4925.963005128402\n",
      "Rejected D: 4513.261505556231\n"
     ]
    },
    {
     "name": "stderr",
     "output_type": "stream",
     "text": [
      "  4%|█▍                                       | 35/1000 [01:09<34:38,  2.15s/it]"
     ]
    },
    {
     "name": "stdout",
     "output_type": "stream",
     "text": [
      "Rejected argp: -8.149398441186186\n",
      "Rejected e: 1.0534464549781761\n",
      "Rejected e: 1.0201615311914831\n",
      "Rejected D: 3654.7839369848316\n"
     ]
    },
    {
     "name": "stderr",
     "output_type": "stream",
     "text": [
      "  4%|█▍                                       | 36/1000 [01:11<34:24,  2.14s/it]"
     ]
    },
    {
     "name": "stdout",
     "output_type": "stream",
     "text": [
      "Rejected D: 15971.059214946345\n",
      "Rejected raan: 416.52507122071904\n",
      "Rejected argp: -18.149989398894213\n",
      "Rejected D: 4176.684046778316\n",
      "Rejected argp: -9.01339953937996\n"
     ]
    },
    {
     "name": "stderr",
     "output_type": "stream",
     "text": [
      "  4%|█▌                                       | 37/1000 [01:13<34:59,  2.18s/it]"
     ]
    },
    {
     "name": "stdout",
     "output_type": "stream",
     "text": [
      "Rejected D: 3007.1046904064897\n",
      "Rejected e: 1.0802567548460467\n",
      "Rejected argp: -36.43794865979809\n",
      "Rejected D: 4356.316746134016\n",
      "Rejected raan: 363.7942459234055\n",
      "Rejected argp: -3.364767398054717\n",
      "Rejected e: 0.9994189018121744\n",
      "Rejected D: 4661.2785535678095\n"
     ]
    },
    {
     "name": "stderr",
     "output_type": "stream",
     "text": [
      "  4%|█▌                                       | 38/1000 [01:15<32:51,  2.05s/it]"
     ]
    },
    {
     "name": "stdout",
     "output_type": "stream",
     "text": [
      "Rejected argp: -3.9994867294619567\n",
      "Rejected argp: -3.737498399200266\n",
      "Rejected D: 2140.927631886958\n",
      "Rejected raan: 366.0876275388788\n",
      "Rejected e: 1.0005716151302522\n"
     ]
    },
    {
     "name": "stderr",
     "output_type": "stream",
     "text": [
      "  4%|█▌                                       | 39/1000 [01:17<32:05,  2.00s/it]"
     ]
    },
    {
     "name": "stdout",
     "output_type": "stream",
     "text": [
      "Rejected D: 4455.341555618654\n",
      "Rejected D: 3657.591900209992\n",
      "Rejected D: 3440.8647493175367\n",
      "Rejected D: 16463.48439924863\n",
      "Rejected e: 1.000852103867232\n"
     ]
    },
    {
     "name": "stderr",
     "output_type": "stream",
     "text": [
      "  4%|█▋                                       | 40/1000 [01:18<30:31,  1.91s/it]"
     ]
    },
    {
     "name": "stdout",
     "output_type": "stream",
     "text": [
      "Rejected argp: -6.270438624613924\n",
      "Rejected D: 3499.4561952179693\n",
      "Rejected argp: -27.735082918897177\n",
      "Rejected D: 4468.756976036851\n",
      "Rejected D: 3030.5757407866804\n",
      "Rejected raan: 373.897262937047\n"
     ]
    },
    {
     "name": "stderr",
     "output_type": "stream",
     "text": [
      "  4%|█▋                                       | 41/1000 [01:20<30:34,  1.91s/it]"
     ]
    },
    {
     "name": "stdout",
     "output_type": "stream",
     "text": [
      "Rejected argp: -15.87189702078284\n",
      "Rejected argp: -20.161951678770116\n",
      "Rejected e: 1.0593006492713568\n",
      "Rejected D: 4930.220246070662\n",
      "Rejected D: 2905.396304309168\n"
     ]
    },
    {
     "name": "stderr",
     "output_type": "stream",
     "text": [
      "  4%|█▋                                       | 42/1000 [01:22<29:51,  1.87s/it]"
     ]
    },
    {
     "name": "stdout",
     "output_type": "stream",
     "text": [
      "Rejected D: 2726.563168663213\n",
      "Rejected e: 1.0296279432968465\n",
      "Rejected argp: -5.545422003054547\n",
      "Rejected D: 3405.426240789292\n"
     ]
    },
    {
     "name": "stderr",
     "output_type": "stream",
     "text": [
      "  4%|█▊                                       | 43/1000 [01:24<30:23,  1.91s/it]"
     ]
    },
    {
     "name": "stdout",
     "output_type": "stream",
     "text": [
      "Rejected e: 1.0115579051750616\n",
      "Rejected argp: -7.479792546247168\n",
      "Rejected D: 3352.7236435999503\n"
     ]
    },
    {
     "name": "stderr",
     "output_type": "stream",
     "text": [
      "  4%|█▊                                       | 44/1000 [01:26<30:05,  1.89s/it]"
     ]
    },
    {
     "name": "stdout",
     "output_type": "stream",
     "text": [
      "Rejected D: 4710.897117623654\n",
      "Rejected D: 4624.868899317304\n",
      "Rejected D: 2744.2814480286834\n"
     ]
    },
    {
     "name": "stderr",
     "output_type": "stream",
     "text": [
      "  4%|█▊                                       | 45/1000 [01:29<34:56,  2.19s/it]"
     ]
    },
    {
     "name": "stdout",
     "output_type": "stream",
     "text": [
      "Rejected e: 1.0659966971711485\n"
     ]
    },
    {
     "name": "stderr",
     "output_type": "stream",
     "text": [
      "  5%|█▉                                       | 46/1000 [01:31<35:04,  2.21s/it]"
     ]
    },
    {
     "name": "stdout",
     "output_type": "stream",
     "text": [
      "Rejected e: 1.0099708794580402\n"
     ]
    },
    {
     "name": "stderr",
     "output_type": "stream",
     "text": [
      "  5%|█▉                                       | 47/1000 [01:33<34:31,  2.17s/it]"
     ]
    },
    {
     "name": "stdout",
     "output_type": "stream",
     "text": [
      "Rejected D: 4752.3819541107505\n",
      "Rejected D: 4189.859150956532\n",
      "Rejected D: 4936.303999634535\n"
     ]
    },
    {
     "name": "stderr",
     "output_type": "stream",
     "text": [
      "  5%|█▉                                       | 48/1000 [01:35<33:52,  2.13s/it]"
     ]
    },
    {
     "name": "stdout",
     "output_type": "stream",
     "text": [
      "Rejected argp: -15.010120379387146\n"
     ]
    },
    {
     "name": "stderr",
     "output_type": "stream",
     "text": [
      "  5%|██                                       | 49/1000 [01:37<33:09,  2.09s/it]"
     ]
    },
    {
     "name": "stdout",
     "output_type": "stream",
     "text": [
      "Rejected D: 4575.3124311775755\n",
      "Rejected D: 4172.885406602332\n",
      "Rejected D: 3311.1162027406435\n"
     ]
    },
    {
     "name": "stderr",
     "output_type": "stream",
     "text": [
      "  5%|██                                       | 50/1000 [01:39<32:59,  2.08s/it]"
     ]
    },
    {
     "name": "stdout",
     "output_type": "stream",
     "text": [
      "Rejected D: 4612.5832971833115\n",
      "Rejected D: 4717.335923380193\n"
     ]
    },
    {
     "name": "stderr",
     "output_type": "stream",
     "text": [
      "  5%|██                                       | 51/1000 [01:41<32:43,  2.07s/it]"
     ]
    },
    {
     "name": "stdout",
     "output_type": "stream",
     "text": [
      "Rejected D: 4732.907271356118\n"
     ]
    },
    {
     "name": "stderr",
     "output_type": "stream",
     "text": [
      "  5%|██▏                                      | 52/1000 [01:43<32:29,  2.06s/it]"
     ]
    },
    {
     "name": "stdout",
     "output_type": "stream",
     "text": [
      "Rejected argp: -25.076217247657013\n",
      "Rejected raan: 369.52448401672837\n",
      "Rejected D: 4639.773708189969\n"
     ]
    },
    {
     "name": "stderr",
     "output_type": "stream",
     "text": [
      "  5%|██▏                                      | 53/1000 [01:45<32:15,  2.04s/it]"
     ]
    },
    {
     "name": "stdout",
     "output_type": "stream",
     "text": [
      "Rejected raan: 367.8373194983529\n"
     ]
    },
    {
     "name": "stderr",
     "output_type": "stream",
     "text": [
      "  5%|██▏                                      | 54/1000 [01:48<32:38,  2.07s/it]"
     ]
    },
    {
     "name": "stdout",
     "output_type": "stream",
     "text": [
      "Rejected raan: 412.1735580867875\n"
     ]
    },
    {
     "name": "stderr",
     "output_type": "stream",
     "text": [
      "  6%|██▎                                      | 55/1000 [01:50<32:45,  2.08s/it]"
     ]
    },
    {
     "name": "stdout",
     "output_type": "stream",
     "text": [
      "Rejected D: 4399.816598716012\n",
      "Rejected D: 4572.926617897592\n"
     ]
    },
    {
     "name": "stderr",
     "output_type": "stream",
     "text": [
      "  6%|██▎                                      | 56/1000 [01:52<32:17,  2.05s/it]"
     ]
    },
    {
     "name": "stdout",
     "output_type": "stream",
     "text": [
      "Rejected D: 4290.452170607794\n"
     ]
    },
    {
     "name": "stderr",
     "output_type": "stream",
     "text": [
      "  6%|██▎                                      | 57/1000 [01:54<32:34,  2.07s/it]"
     ]
    },
    {
     "name": "stdout",
     "output_type": "stream",
     "text": [
      "Rejected D: 3957.9747920914647\n",
      "Rejected D: 4777.026903346046\n"
     ]
    },
    {
     "name": "stderr",
     "output_type": "stream",
     "text": [
      "  6%|██▍                                      | 58/1000 [01:56<31:58,  2.04s/it]"
     ]
    },
    {
     "name": "stdout",
     "output_type": "stream",
     "text": [
      "Rejected D: 4177.502103519394\n"
     ]
    },
    {
     "name": "stderr",
     "output_type": "stream",
     "text": [
      "  6%|██▍                                      | 59/1000 [01:58<32:04,  2.05s/it]"
     ]
    },
    {
     "name": "stdout",
     "output_type": "stream",
     "text": [
      "Rejected D: 3974.352650036878\n"
     ]
    },
    {
     "name": "stderr",
     "output_type": "stream",
     "text": [
      "  6%|██▌                                      | 61/1000 [02:02<32:30,  2.08s/it]"
     ]
    },
    {
     "name": "stdout",
     "output_type": "stream",
     "text": [
      "Rejected D: 4922.8993483833165\n"
     ]
    },
    {
     "name": "stderr",
     "output_type": "stream",
     "text": [
      "  6%|██▌                                      | 62/1000 [02:04<32:25,  2.07s/it]"
     ]
    },
    {
     "name": "stdout",
     "output_type": "stream",
     "text": [
      "Rejected e: 1.0128080860673023\n",
      "Rejected D: 4882.928308101637\n"
     ]
    },
    {
     "name": "stderr",
     "output_type": "stream",
     "text": [
      "  7%|██▊                                      | 68/1000 [02:18<34:47,  2.24s/it]"
     ]
    },
    {
     "name": "stdout",
     "output_type": "stream",
     "text": [
      "Rejected D: 4944.638117431803\n"
     ]
    },
    {
     "name": "stderr",
     "output_type": "stream",
     "text": [
      "  7%|██▊                                      | 70/1000 [02:22<34:01,  2.19s/it]"
     ]
    },
    {
     "name": "stdout",
     "output_type": "stream",
     "text": [
      "Rejected D: 4428.131941151237\n"
     ]
    },
    {
     "name": "stderr",
     "output_type": "stream",
     "text": [
      "  7%|██▉                                      | 71/1000 [02:24<33:31,  2.17s/it]"
     ]
    },
    {
     "name": "stdout",
     "output_type": "stream",
     "text": [
      "Rejected D: 4940.9388310146605\n"
     ]
    },
    {
     "name": "stderr",
     "output_type": "stream",
     "text": [
      "100%|███████████████████████████████████████| 1000/1000 [40:21<00:00,  2.42s/it]"
     ]
    },
    {
     "name": "stdout",
     "output_type": "stream",
     "text": [
      "(6080, 8)\n"
     ]
    },
    {
     "name": "stderr",
     "output_type": "stream",
     "text": [
      "\n"
     ]
    }
   ],
   "source": [
    "nwalkers = 32\n",
    "ndim = len(initial_theta)\n",
    "nsteps = 1000\n",
    "\n",
    "spread = np.array([\n",
    "    1e4,   # mass\n",
    "    100,   # distance\n",
    "    10,    # a\n",
    "    0.005, # e\n",
    "    0.5,   # i\n",
    "    2,     # raan\n",
    "    2,     # argp\n",
    "    0.1    # tp\n",
    "])\n",
    "pos = initial_theta + np.random.randn(nwalkers, ndim) * spread\n",
    "\n",
    "sampler = emcee.EnsembleSampler(\n",
    "    nwalkers, ndim, log_probability,\n",
    "    args=(obs_times, x_obs, y_obs, vz_obs, trial_params[\"D\"])\n",
    ")\n",
    "\n",
    "sampler.run_mcmc(pos, nsteps, progress=True)\n",
    "\n",
    "samples = sampler.get_chain(discard=700, thin=30, flat=True)\n",
    "print(samples.shape)"
   ]
  },
  {
   "cell_type": "code",
   "execution_count": 11,
   "id": "58542334-3609-4524-bfc7-537461547564",
   "metadata": {},
   "outputs": [
    {
     "name": "stdout",
     "output_type": "stream",
     "text": [
      "Mass estimate: 4.04e+06 M_sun (+3.02e+05, -9.76e+04)\n",
      "Distance estimate: 8021 pc (+4048, -960)\n"
     ]
    }
   ],
   "source": [
    "mass_samples = samples[:, 0]     # in solar masses\n",
    "distance_samples = samples[:, 1] # in parsecs\n",
    "\n",
    "mass_median = np.median(mass_samples)\n",
    "distance_median = np.median(distance_samples)\n",
    "\n",
    "mass_16, mass_84 = np.percentile(mass_samples, [16, 84])\n",
    "distance_16, distance_84 = np.percentile(distance_samples, [16, 84])\n",
    "\n",
    "print(f\"Mass estimate: {mass_median:.2e} M_sun (+{mass_84 - mass_median:.2e}, -{mass_median - mass_16:.2e})\")\n",
    "print(f\"Distance estimate: {distance_median:.0f} pc (+{distance_84 - distance_median:.0f}, -{distance_median - distance_16:.0f})\")"
   ]
  },
  {
   "cell_type": "code",
   "execution_count": 7,
   "id": "576a08a0-5917-4619-96ad-e10bc41171fb",
   "metadata": {},
   "outputs": [
    {
     "data": {
      "text/plain": [
       "array([139.26776596, 134.18598847, 123.88897905,  43.22439897,\n",
       "       108.98036796,  68.59081298,  96.61266824,  49.58167156])"
      ]
     },
     "execution_count": 7,
     "metadata": {},
     "output_type": "execute_result"
    }
   ],
   "source": [
    "sampler.get_autocorr_time(tol=0)"
   ]
  },
  {
   "cell_type": "code",
   "execution_count": 8,
   "id": "dfd27923-dbc1-42d9-a8c1-38acc208affa",
   "metadata": {},
   "outputs": [
    {
     "name": "stdout",
     "output_type": "stream",
     "text": [
      "[0.411 0.382 0.395 0.382 0.425 0.388 0.379 0.376 0.399 0.382 0.385 0.41\n",
      " 0.387 0.379 0.387 0.405 0.39  0.406 0.399 0.38  0.396 0.372 0.382 0.386\n",
      " 0.373 0.374 0.374 0.379 0.397 0.392 0.383 0.36 ]\n"
     ]
    }
   ],
   "source": [
    "print(sampler.acceptance_fraction)"
   ]
  },
  {
   "cell_type": "code",
   "execution_count": 9,
   "id": "eb2b94e1-42fe-4563-bca0-a78a8ae86e2c",
   "metadata": {},
   "outputs": [
    {
     "data": {
      "text/plain": [
       "0.0"
      ]
     },
     "execution_count": 9,
     "metadata": {},
     "output_type": "execute_result"
    }
   ],
   "source": [
    "log_prior(initial_theta)"
   ]
  },
  {
   "cell_type": "code",
   "execution_count": 10,
   "id": "d93afd42-d05f-4d17-94cb-b951badf537f",
   "metadata": {},
   "outputs": [
    {
     "data": {
      "text/plain": [
       "0.0"
      ]
     },
     "execution_count": 10,
     "metadata": {},
     "output_type": "execute_result"
    }
   ],
   "source": [
    "log_prior(pos[0])"
   ]
  },
  {
   "cell_type": "code",
   "execution_count": null,
   "id": "beaff9d6-ada9-4f7b-b12a-60a2208fc252",
   "metadata": {},
   "outputs": [],
   "source": []
  }
 ],
 "metadata": {
  "kernelspec": {
   "display_name": "Python 3 (ipykernel)",
   "language": "python",
   "name": "python3"
  },
  "language_info": {
   "codemirror_mode": {
    "name": "ipython",
    "version": 3
   },
   "file_extension": ".py",
   "mimetype": "text/x-python",
   "name": "python",
   "nbconvert_exporter": "python",
   "pygments_lexer": "ipython3",
   "version": "3.10.16"
  }
 },
 "nbformat": 4,
 "nbformat_minor": 5
}
